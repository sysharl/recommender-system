{
 "cells": [
  {
   "cell_type": "markdown",
   "id": "ef69ec04-131c-438d-b391-1c7491804f11",
   "metadata": {},
   "source": [
    "## Simple Approaches to Recommender System "
   ]
  },
  {
   "cell_type": "markdown",
   "id": "fab1b598-c4f2-4bd6-8d66-eec8b977d13c",
   "metadata": {},
   "source": [
    "https://www.kaggle.com/datasets/uciml/restaurant-data-with-consumer-ratings"
   ]
  },
  {
   "cell_type": "markdown",
   "id": "7f67b4d1-754f-4868-8d9d-d9660f0a419d",
   "metadata": {},
   "source": [
    "### Popularity-Based Recommenders"
   ]
  },
  {
   "cell_type": "code",
   "execution_count": null,
   "id": "0fbf220e-d045-4f59-bb04-34961d46884c",
   "metadata": {},
   "outputs": [],
   "source": []
  }
 ],
 "metadata": {
  "kernelspec": {
   "display_name": "Python 3 (ipykernel)",
   "language": "python",
   "name": "python3"
  },
  "language_info": {
   "codemirror_mode": {
    "name": "ipython",
    "version": 3
   },
   "file_extension": ".py",
   "mimetype": "text/x-python",
   "name": "python",
   "nbconvert_exporter": "python",
   "pygments_lexer": "ipython3",
   "version": "3.10.15"
  }
 },
 "nbformat": 4,
 "nbformat_minor": 5
}
